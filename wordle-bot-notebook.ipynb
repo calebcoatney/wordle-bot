{
 "cells": [
  {
   "cell_type": "code",
   "execution_count": 6,
   "id": "507b54bb",
   "metadata": {},
   "outputs": [],
   "source": [
    "from wordle_solver import WordleSolver\n",
    "\n",
    "solver = WordleSolver(n_top=10000, filter_past_answers=True)"
   ]
  },
  {
   "cell_type": "code",
   "execution_count": 7,
   "id": "024230a2",
   "metadata": {},
   "outputs": [
    {
     "name": "stdout",
     "output_type": "stream",
     "text": [
      "Initial suggestions: ['lanes', 'rates', 'tales', 'tires', 'tries', 'tears', 'lines', 'cares', 'laser', 'reads', 'rails', 'races', 'deals', 'roles', 'raise', 'dates', 'rains', 'leads', 'slate', 'males', 'stare', 'rides', 'risen', 'nails', 'cries']\n"
     ]
    }
   ],
   "source": [
    "solver.suggest_initial_guess(alpha=1, topk=25, restrict_guesses=False);"
   ]
  },
  {
   "cell_type": "code",
   "execution_count": 8,
   "id": "5fdbf759",
   "metadata": {},
   "outputs": [
    {
     "name": "stdout",
     "output_type": "stream",
     "text": [
      "\n",
      "Guess: 'lanes' → Pattern: (0, 0, 1, 0, 1)\n",
      "Candidates remaining: 5\n",
      "Next suggestions: ['yours', 'youre', 'wrote', 'write', 'wrist', 'wound', 'would', 'worth', 'worst', 'worry', 'woody', 'wives', 'witch', 'wires', 'wired', 'wiped', 'wings', 'wines', 'winds', 'width', 'widow', 'wider', 'whose', 'whore', 'whole', 'white', 'while', 'which', 'weird', 'weigh', 'wayne', 'waist', 'views', 'using', 'unity', 'twist', 'twins', 'twice', 'towns', 'tower', 'towel', 'tooth', 'tommy', 'tight', 'tiger', 'throw', 'threw', 'those', 'third', 'think', 'thing', 'thief', 'thick', 'swiss', 'swing', 'swift', 'story', 'sting', 'smith', 'sixty', 'sixth', 'signs', 'sight', 'shows', 'shown', 'shout', 'shots', 'short', 'shoot', 'shirt', 'shiny', 'shine', 'shift', 'shawn', 'rugby', 'rough', 'rogue', 'risky', 'rings', 'riley', 'right', 'ridge', 'ricky', 'reign', 'pitch', 'photo', 'other', 'north', 'ninth', 'night', 'mouth', 'month', 'mitch', 'might', 'lying', 'logic', 'light', 'kitty', 'keith', 'ivory']\n"
     ]
    }
   ],
   "source": [
    "solver.guess('lanes', (0,0,1,0,1), alpha=1, topk=100, restrict_guesses=False);"
   ]
  },
  {
   "cell_type": "code",
   "execution_count": 5,
   "id": "06eee174",
   "metadata": {},
   "outputs": [
    {
     "name": "stdout",
     "output_type": "stream",
     "text": [
      "\n",
      "Guess: 'shiny' → Pattern: (2, 0, 0, 2, 0)\n",
      "Candidates remaining: 2\n",
      "Next suggestions: ['stunt', 'spunk']\n"
     ]
    }
   ],
   "source": [
    "solver.guess('shiny', (2,0,0,2,0), alpha=0.1, topk=5, restrict_guesses=True);"
   ]
  },
  {
   "cell_type": "code",
   "execution_count": null,
   "id": "c4963442",
   "metadata": {},
   "outputs": [],
   "source": [
    "solver.reset()"
   ]
  }
 ],
 "metadata": {
  "kernelspec": {
   "display_name": "dsci-env",
   "language": "python",
   "name": "python3"
  },
  "language_info": {
   "codemirror_mode": {
    "name": "ipython",
    "version": 3
   },
   "file_extension": ".py",
   "mimetype": "text/x-python",
   "name": "python",
   "nbconvert_exporter": "python",
   "pygments_lexer": "ipython3",
   "version": "3.13.1"
  }
 },
 "nbformat": 4,
 "nbformat_minor": 5
}
