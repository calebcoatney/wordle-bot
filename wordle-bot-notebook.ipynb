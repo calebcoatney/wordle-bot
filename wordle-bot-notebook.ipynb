{
 "cells": [
  {
   "cell_type": "code",
   "execution_count": 1,
   "id": "507b54bb",
   "metadata": {},
   "outputs": [],
   "source": [
    "from wordle_solver import WordleSolver\n",
    "\n",
    "solver = WordleSolver(n_top=50000, filter_past_answers=True)"
   ]
  },
  {
   "cell_type": "code",
   "execution_count": 2,
   "id": "024230a2",
   "metadata": {},
   "outputs": [
    {
     "name": "stdout",
     "output_type": "stream",
     "text": [
      "\"point\" in guess pool: True\n",
      "Initial suggestions: ['aires', 'lanes', 'aries', 'rates', 'earns', 'dares', 'ailes', 'tales', 'mares', 'siren', 'cares', 'soren', 'earls', 'raise', 'sarin', 'rains', 'nears', 'reals', 'danes', 'hares', 'leans', 'laser', 'tears', 'tires', 'siena']\n"
     ]
    }
   ],
   "source": [
    "solver.suggest_initial_guess(alpha=1, topk=25, restrict_guesses=False);"
   ]
  },
  {
   "cell_type": "code",
   "execution_count": 4,
   "id": "5fdbf759",
   "metadata": {},
   "outputs": [
    {
     "name": "stdout",
     "output_type": "stream",
     "text": [
      "\n",
      "Guess: 'lanes' → Pattern: (0, 0, 1, 0, 1)\n",
      "Candidates remaining: 19\n",
      "\"point\" in guess pool: True\n",
      "Next suggestions: ['shiny', 'owing', 'unity', 'spiny', 'whiny', 'yoshi', 'wishy', 'fishy', 'spicy', 'irony', 'unify', 'swing', 'bigot', 'tywin', 'swift', 'cryin', 'pinoy', 'tryin', 'risky', 'onion', 'posit', 'suing', 'point', 'twink', 'goofy', 'juicy', 'youth', 'spiky', 'intro', 'footy', 'doing', 'rigby', 'ricky', 'spiro', 'rainy', 'sting', 'sochi', 'horny', 'cushy', 'bruni', 'unwin', 'stony', 'ricoh', 'choir', 'wring', 'kirby', 'corny', 'court', 'wimpy', 'topic', 'pithy', 'optic', 'brink', 'shing', 'union', 'swine', 'snout', 'fiery', 'fairy', 'dhoni', 'timor', 'wound', 'inbox', 'bring', 'boing', 'tying', 'swung', 'pivot', 'pinot', 'pilot', 'kyoto', 'grimy', 'forty', 'crony', 'comfy', 'pliny', 'rhino', 'sunny', 'shiro', 'shift', 'downy', 'putin', 'corgi', 'sight', 'rusty', 'ripon', 'pushy', 'prior', 'phony', 'goody', 'stink', 'grout', 'itchy', 'rohit', 'snowy', 'rocky', 'funny', 'corky', 'buoys', 'howdy']\n"
     ]
    }
   ],
   "source": [
    "solver.guess('lanes', (0,0,1,0,1), alpha=1, topk=100, restrict_guesses=False);"
   ]
  },
  {
   "cell_type": "code",
   "execution_count": null,
   "id": "06eee174",
   "metadata": {},
   "outputs": [],
   "source": [
    "solver.guess('shiny', (2,0,0,2,0), alpha=0.1, topk=5, restrict_guesses=True);"
   ]
  },
  {
   "cell_type": "code",
   "execution_count": null,
   "id": "eeebd7cd",
   "metadata": {},
   "outputs": [],
   "source": [
    "solver.guess('clamp', (0,0,0,0,1), alpha=0.1, topk=5, restrict_guesses=True);"
   ]
  },
  {
   "cell_type": "code",
   "execution_count": null,
   "id": "c4963442",
   "metadata": {},
   "outputs": [],
   "source": [
    "solver.reset()"
   ]
  }
 ],
 "metadata": {
  "kernelspec": {
   "display_name": "dsci-env",
   "language": "python",
   "name": "python3"
  },
  "language_info": {
   "codemirror_mode": {
    "name": "ipython",
    "version": 3
   },
   "file_extension": ".py",
   "mimetype": "text/x-python",
   "name": "python",
   "nbconvert_exporter": "python",
   "pygments_lexer": "ipython3",
   "version": "3.13.1"
  }
 },
 "nbformat": 4,
 "nbformat_minor": 5
}
